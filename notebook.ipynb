{
 "cells": [
  {
   "cell_type": "markdown",
   "metadata": {},
   "source": [
    "# R-NET"
   ]
  },
  {
   "cell_type": "code",
   "execution_count": 1,
   "metadata": {
    "collapsed": true
   },
   "outputs": [],
   "source": [
    "import tensorflow as tf\n",
    "from tensorflow.contrib.layers import xavier_initializer as xinit"
   ]
  },
  {
   "cell_type": "markdown",
   "metadata": {},
   "source": [
    "## Placeholders"
   ]
  },
  {
   "cell_type": "code",
   "execution_count": 2,
   "metadata": {
    "collapsed": true
   },
   "outputs": [],
   "source": [
    "Lp = 100\n",
    "Lq = 20\n",
    "B = 8\n",
    "embed_dim = 150\n",
    "hdim = 2*embed_dim\n",
    "vocab_size = 10000"
   ]
  },
  {
   "cell_type": "code",
   "execution_count": 3,
   "metadata": {
    "collapsed": true
   },
   "outputs": [],
   "source": [
    "tf.reset_default_graph()\n",
    "p = tf.placeholder(tf.int32, shape=[None, Lp], name='passage')\n",
    "q = tf.placeholder(tf.int32, shape=[None, Lq], name='question')"
   ]
  },
  {
   "cell_type": "markdown",
   "metadata": {},
   "source": [
    "## Embedding\n",
    "\n",
    "**TODO**\n",
    "- [ ] Include character embedding for OOV tokens"
   ]
  },
  {
   "cell_type": "code",
   "execution_count": 4,
   "metadata": {
    "collapsed": true
   },
   "outputs": [],
   "source": [
    "E = tf.get_variable('E', dtype=tf.float32, shape=[vocab_size, embed_dim], initializer=xinit())\n",
    "qe = tf.nn.embedding_lookup(E, q)\n",
    "pe = tf.nn.embedding_lookup(E, p)"
   ]
  },
  {
   "cell_type": "markdown",
   "metadata": {},
   "source": [
    "## Question Encoder"
   ]
  },
  {
   "cell_type": "code",
   "execution_count": 5,
   "metadata": {
    "collapsed": true
   },
   "outputs": [],
   "source": [
    "from lib.recurrence import *"
   ]
  },
  {
   "cell_type": "code",
   "execution_count": 6,
   "metadata": {
    "collapsed": true
   },
   "outputs": [],
   "source": [
    "(qstates_f, qstates_b), _ = bi_net(cell_f= gru_n(embed_dim,3), cell_b=gru_n(embed_dim,3),\n",
    "                                inputs=qe, batch_size=B, timesteps=Lq,\n",
    "                                scope='q_enc')\n",
    "qstates = tf.concat([qstates_f, qstates_b], axis=-1)"
   ]
  },
  {
   "cell_type": "markdown",
   "metadata": {},
   "source": [
    "## Passage Encoder"
   ]
  },
  {
   "cell_type": "code",
   "execution_count": 7,
   "metadata": {
    "collapsed": true
   },
   "outputs": [],
   "source": [
    "(pstates_f, pstates_b), _ = bi_net(cell_f= gru_n(embed_dim,3), cell_b=gru_n(embed_dim,3),\n",
    "                                inputs=pe, batch_size=B, timesteps=Lp,\n",
    "                                scope='a_enc')\n",
    "pstates = tf.concat([pstates_f, pstates_b], axis=-1)"
   ]
  },
  {
   "cell_type": "markdown",
   "metadata": {},
   "source": [
    "### Question-aware Passage Representation"
   ]
  },
  {
   "cell_type": "code",
   "execution_count": 8,
   "metadata": {
    "collapsed": true
   },
   "outputs": [],
   "source": [
    "with tf.variable_scope('qp'):\n",
    "    qp_states = gated_attention_net(qstates, pstates,# encoded representation of text\n",
    "                                    tf.zeros(dtype=tf.float32, shape=[B,hdim]), # notice d*2\n",
    "                                    batch_size=B, d=hdim, La=Lq, Lb=Lp,\n",
    "                                    scope='qp')                                    "
   ]
  },
  {
   "cell_type": "markdown",
   "metadata": {
    "collapsed": true
   },
   "source": [
    "## Self-matching Representation"
   ]
  },
  {
   "cell_type": "code",
   "execution_count": 9,
   "metadata": {},
   "outputs": [],
   "source": [
    "with tf.variable_scope('pp'):\n",
    "    # convert qp_states to time-major\n",
    "    qp_states = tf.transpose(qp_states, [1,0,-1])\n",
    "    pp_states = gated_attention_net(pstates, qp_states,# encoded representation of text\n",
    "                                    tf.zeros(dtype=tf.float32, shape=[B,hdim]), # notice d*2\n",
    "                                    batch_size=B, d=hdim, La=Lp, Lb=Lp,\n",
    "                                    scope='pp')                                    "
   ]
  }
 ],
 "metadata": {
  "kernelspec": {
   "display_name": "Python 3",
   "language": "python",
   "name": "python3"
  },
  "language_info": {
   "codemirror_mode": {
    "name": "ipython",
    "version": 3
   },
   "file_extension": ".py",
   "mimetype": "text/x-python",
   "name": "python",
   "nbconvert_exporter": "python",
   "pygments_lexer": "ipython3",
   "version": "3.5.2"
  }
 },
 "nbformat": 4,
 "nbformat_minor": 2
}
